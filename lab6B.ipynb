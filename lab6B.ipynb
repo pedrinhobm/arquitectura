{
  "cells": [
    {
      "cell_type": "markdown",
      "metadata": {
        "id": "6hYqIcXl8oby"
      },
      "source": [
        "# Laboratorio 6\n",
        "\n",
        "Indicaciones generales:\n",
        "\n",
        "* En lo que respecta a `C` no deberá usar punteros, ni arreglos. Tampoco se deberá emplear administración de memoria dinámica, ni de funciones auxiliares de ninguna librería.\n",
        "\n",
        "* Los puntajes de ítems relacionados con mediciones de tiempo, error relativo y presentación de gráficos solo serán asignados en caso sus funciones estén correctamente implementadas.\n",
        "\n",
        "* Las funciones implementadas solo deberán tener los argumentos mencionados en sus respectivos ítems.\n",
        "\n",
        "* Los resultados de la función `_slow_` serán las referencias para medir los speedups.\n",
        "\n",
        "* No se puede emplear ChatGPT, ni ningún modelo de lenguaje.\n",
        "\n",
        "* Puede emplear apuntes, clases y hacer consultas en foros de internet."
      ]
    },
    {
      "cell_type": "code",
      "execution_count": null,
      "metadata": {
        "id": "paAUiOUEf63U"
      },
      "outputs": [],
      "source": [
        "# no borrar esta celda\n",
        "! rm *.c *.o *.so"
      ]
    },
    {
      "cell_type": "markdown",
      "metadata": {
        "id": "aToubh8_9Mf7"
      },
      "source": [
        "## Ejercicio"
      ]
    },
    {
      "cell_type": "markdown",
      "metadata": {
        "id": "DLiudWQMxCN4"
      },
      "source": [
        "El coseno de un ángulo `x` se calcula con la siguiente serie:\n",
        "\n",
        "$$\n",
        "cos(x) = 1 - \\frac{x^{2}}{2!} + \\frac{x^{4}}{4!} - \\frac{x^{6}}{6!} + \\frac{x^{8}}{8!} - \\cdots\n",
        "$$\n",
        "\n",
        "Durante el laboratorio se le solicitará implementar una grupo de funciones basados en esta serie."
      ]
    },
    {
      "cell_type": "markdown",
      "metadata": {
        "id": "KFL8Xx67x1dM"
      },
      "source": [
        "1. Implementar una función en `python` que calcule el coseno de un ángulo `x`.\n",
        "\n",
        "Nombre: `py_slow_cos`\n",
        "\n",
        "Argumentos:\n",
        "* `x` : ángulo\n",
        "* `n_terms`: cantidad de términos\n",
        "\n",
        "Resultado: `cos(x)`\n",
        "\n",
        "Observaciones:\n",
        "\n",
        "* No debe emplear funciones de módulos auxiliaries, ni suyas propias.\n",
        "* Todo se debe hacer dentro de la función."
      ]
    },
    {
      "cell_type": "markdown",
      "metadata": {
        "id": "tZb2TQFkyZLB"
      },
      "source": [
        "2. Implementar una función en `python` que calcule el coseno de un ángulo `x`.\n",
        "\n",
        "Nombre: `py_fast_cos`\n",
        "\n",
        "Argumentos:\n",
        "* `x` : ángulo\n",
        "* `n_terms`: cantidad de términos\n",
        "\n",
        "Resultado: `cos(x)`\n",
        "\n",
        "Observaciones:\n",
        "* No puede emplear factorial de ninguna manera.\n",
        "* No debe emplear funciones de módulos auxiliares, ni suyas propias.\n",
        "* Debe ser iterativo.\n",
        "* Sugerencia: Deducir el término $t_{n}$ en función del término $t_{n-1}$"
      ]
    },
    {
      "cell_type": "markdown",
      "metadata": {
        "id": "S-UTwnAly7J_"
      },
      "source": [
        "3. En una celda mágica implementar dos versiones en `C` para la función `py_fast_cos`. Una versión trabajará con tipo `double` y otra trabajará con tipo `long double`. Considere que estas funciones tienen los mismos argumentos que la función `py_fast_cos`.\n",
        "\n",
        "Observaciones:\n",
        "\n",
        "* Justifique el tipo de dato de cada uno de los argumentos.\n",
        "* Justifique el tipo de dato que devuelve la función."
      ]
    },
    {
      "cell_type": "markdown",
      "metadata": {
        "id": "xTSS1cuczfEL"
      },
      "source": [
        "4. Crear el *object file* y la *shared library*"
      ]
    },
    {
      "cell_type": "markdown",
      "metadata": {
        "id": "pGaNmLYp0B0k"
      },
      "source": [
        "5. Hacer una función que enlace con `Python` mediante `ctypes` las funciones anteriores. Esta función debe devolver las dos funciones configuradas."
      ]
    },
    {
      "cell_type": "markdown",
      "metadata": {
        "id": "0H67KecC0KKc"
      },
      "source": [
        "6. Haga una instancia de las dos funciones"
      ]
    },
    {
      "cell_type": "markdown",
      "metadata": {
        "id": "0MBLgUiu0abD"
      },
      "source": [
        "7. Implemente una función que de forma iterativa encuentre la cantidad de términos que requieren sus funciones para calcular con una determinada precisión el seno de un grupo de ángulos definidos entre $[inf, sup]$.\n",
        "\n",
        "Nombre de la función: `encontrar_n_terms`\n",
        "\n",
        "Argumentos:\n",
        "\n",
        "* `f`: función\n",
        "\n",
        "* `inf`: extremo izquierdo del dominio\n",
        "\n",
        "* `sup`: extremo derecho del dominio\n",
        "\n",
        "* `n_angs`: cantidad de ángulos\n",
        "\n",
        "* `pre`: precisión\n",
        "\n",
        "Resultado: Cantidad de términos\n",
        "\n",
        "Observaciones:\n",
        "* Puede usar la función `linspace` del módulo `numpy` para crear su vector de ángulos, y la función `norm` del submódulo `linalg` del módulo `numpy` para calcular la norma de un arreglo.\n",
        "* Para su referencia considere el resultado de la función `cos` del módulo `numpy`.\n",
        "\n"
      ]
    },
    {
      "cell_type": "markdown",
      "metadata": {
        "id": "P2oP98tp1uob"
      },
      "source": [
        "8. Haga una prueba de `encontrar_n_terms` para cada una de sus funciones.\n",
        "\n",
        "Considere:\n",
        "* `inf` = -2pi\n",
        "* `sup` = 2pi\n",
        "* `n_angs` = 1000\n",
        "* `pre` = 4e-15\n",
        "\n",
        "Observación: Cada resultado debe estar asignado a una variable independiente y ser mostrado en una celda"
      ]
    },
    {
      "cell_type": "markdown",
      "metadata": {
        "id": "UB_oUDg22Gq5"
      },
      "source": [
        "9. Implemente una función que realice una cantidad de mediciones de tiempo de alguna de sus funciones que calcula el coseno y devuelva la mediana de esas mediciones.\n",
        "\n",
        "Nombre de la función: `encontrar_mediana_de_mediciones_cos`\n",
        "Argumentos:\n",
        "* `f`: función\n",
        "* `ang`: ángulo de la función\n",
        "* `n_terms`: cantidad de términos de la función\n",
        "* `n_iter`: cantidad de iteraciones\n",
        "\n",
        "Resultado: Mediana de las mediciones realizadas.\n",
        "\n",
        "Observación: Puede emplear la función `median` del módulo `statistics`."
      ]
    },
    {
      "cell_type": "markdown",
      "metadata": {
        "id": "cplcMhUb3Dpk"
      },
      "source": [
        "10. Haga dos pruebas de `encontrar_mediana_de_mediciones_cos` para cada una de sus funciones.\n",
        "\n",
        "Prueba 1 :\n",
        "* `ang` = `inf`\n",
        "* `n_iter` = 50\n",
        "\n",
        "Prueba 2 :\n",
        "* `ang` = `sup`\n",
        "* `n_iter` = 50\n",
        "\n",
        "Observaciones:\n",
        "\n",
        "* Cada función empleará su cantidad de términos previamente calculados\n",
        "* Cada resultado deberá ser asignado a una variable independiente"
      ]
    },
    {
      "cell_type": "markdown",
      "metadata": {
        "id": "B9v-TYsn5Bos"
      },
      "source": [
        "11. Presente gráficos de barras de las medianas de los tiempos y de los speedups a partir de sus resultados del ítem anterior"
      ]
    },
    {
      "cell_type": "markdown",
      "metadata": {
        "id": "xLWCijBd5Kqd"
      },
      "source": [
        "12. Implemente una función en `Python` que calcule el seno de un arreglo de ángulos.\n",
        "\n",
        "Nombre de la función: `calc_cosens`\n",
        "\n",
        "Argumentos:\n",
        "* `f`: función\n",
        "* `inf`: extremo izquierdo del dominio\n",
        "* `sup`: extremo derecho del dominio\n",
        "* `n_angs`: cantidad de ángulos\n",
        "* `n_terms`: cantidad de términos de la función `f`\n",
        "\n",
        "Resultado: Arreglo de `numpy` con los senos de los ángulos\n",
        "\n",
        "Observación: Puede emplear la función `linspace` del módulo `numpy` para crear su arreglo de ángulos."
      ]
    },
    {
      "cell_type": "markdown",
      "metadata": {
        "id": "jEmXSZYK6BTi"
      },
      "source": [
        "13. Implemente una función que realice una cantidad de mediciones de tiempo de su función anterior y devuelva la mediana de esas mediciones.\n",
        "\n",
        "Nombre de la función: `encontrar_mediana_de_mediciones_calc_cosens`\n",
        "\n",
        "Argumentos:\n",
        "* `f`: función\n",
        "* `inf`: extremo izquierdo del dominio\n",
        "* `sup`: extremo derecho del dominio\n",
        "* `n_terms`: cantidad de términos de la función\n",
        "* `n_iter`: cantidad de iteraciones\n",
        "\n",
        "Resultado: Mediana de las mediciones realizadas.\n",
        "\n",
        "Observación: Puede emplear la función `median` del módulo `statistics`."
      ]
    },
    {
      "cell_type": "markdown",
      "metadata": {
        "id": "YJL00rpY6kYE"
      },
      "source": [
        "14. Haga pruebas de `encontrar_mediana_de_mediciones_cosens` para cada una de sus funciones.\n",
        "\n",
        "Observaciones:\n",
        "\n",
        "* Los valores para `inf`, `sup`, `n_angs` y `n_iter` serán los mismos que los definidos anteriormente\n",
        "* Cada función empleará su cantidad de términos previamente calculados\n",
        "* Cada resultado deberá ser asignado a una variable independiente"
      ]
    },
    {
      "cell_type": "markdown",
      "metadata": {
        "id": "8aD3NdZD7IHT"
      },
      "source": [
        "15. Presente gráficas de barras de las medianas calculadas en el item anterior y de los speedups a partir de los resultados del ítem anterior."
      ]
    },
    {
      "cell_type": "markdown",
      "metadata": {
        "id": "c2I-zZWtAIT1"
      },
      "source": [
        "## Distribución de puntaje\n",
        "\n",
        "| ítem | puntos |\n",
        "|:----:|:------:|\n",
        "|   1  |    1   |\n",
        "|   2  |    2   |\n",
        "|   3  |    4   |\n",
        "|   4  |   0.5  |\n",
        "|   5  |   0.5  |\n",
        "|   6  |   0.5  |\n",
        "|   7  |   1.5  |\n",
        "|   8  |   0.5  |\n",
        "|   9  |   1.5  |\n",
        "|  10  |   0.5  |\n",
        "|  11  |   0.5  |\n",
        "|  12  |   0.5  |\n",
        "|  13  |   0.5  |\n",
        "|  14  |   0.5  |\n",
        "|  15  |   0.5  |"
      ]
    },
    {
      "cell_type": "markdown",
      "metadata": {
        "id": "KRSPZFpTGpLB"
      },
      "source": [
        "Código : 20210850"
      ]
    },
    {
      "cell_type": "code",
      "execution_count": null,
      "metadata": {
        "id": "tdChzWFrGpLC"
      },
      "outputs": [],
      "source": [
        "def py_slow_cos(x, n_terms):\n",
        "    res = 0\n",
        "    for n in range(n_terms):\n",
        "        fac = 1\n",
        "        for f in range(1, (2*n+1)):\n",
        "            fac *= f\n",
        "        res += ((-1)**(n))*(x**(2*n))/fac\n",
        "    return res"
      ]
    },
    {
      "cell_type": "code",
      "execution_count": null,
      "metadata": {
        "id": "tmpRwoVnGpLD"
      },
      "outputs": [],
      "source": [
        "def py_fast_cos(x, n_terms):\n",
        "    res = 0\n",
        "    tn = 1\n",
        "    for n in range(n_terms):\n",
        "        res += tn\n",
        "        tn = (-1)*tn*(x**2)/((2*n + 1)*(2*n + 2))\n",
        "    return res"
      ]
    },
    {
      "cell_type": "code",
      "execution_count": null,
      "metadata": {
        "id": "9AC7lfcJGpLE",
        "outputId": "2893842c-4a24-4e4d-ebe4-04c2f40beffc"
      },
      "outputs": [
        {
          "name": "stdout",
          "output_type": "stream",
          "text": [
            "-0.4222222222222223 -0.4222222222222223\n"
          ]
        }
      ],
      "source": [
        "# Prueba de funcionalidad de las funciones cos_slow y cos_fast\n",
        "\n",
        "x = 2\n",
        "n_terms = 4\n",
        "\n",
        "res1 = py_slow_cos(x, n_terms)\n",
        "res2 = py_fast_cos(x, n_terms)\n",
        "\n",
        "print(res1, res2)"
      ]
    },
    {
      "cell_type": "code",
      "execution_count": null,
      "metadata": {
        "id": "Q4j1SoIeGpLL",
        "outputId": "731d6f05-0c6a-4b27-da72-5d57716624ae"
      },
      "outputs": [
        {
          "name": "stdout",
          "output_type": "stream",
          "text": [
            "Writing c_fast_cos.c\n"
          ]
        }
      ],
      "source": [
        "%%file c_fast_cos.c\n",
        "\n",
        "double c_fast_cos_double(double x, int n_terms){\n",
        "    double res = 0;\n",
        "    double tn = 1;\n",
        "\n",
        "    for(int n=0; n<n_terms; n++){\n",
        "        res += tn;\n",
        "        tn = (-1)*tn*(x*x)/((2*n + 1)*(2*n + 2));\n",
        "    }\n",
        "    return res;\n",
        "}\n",
        "\n",
        "long double c_fast_cos_long(long double x, int n_terms){\n",
        "    long double res = 0;\n",
        "    long double tn = 1;\n",
        "\n",
        "    for(int n=0; n<n_terms; n++){\n",
        "        res += tn;\n",
        "        tn = (-1)*tn*(x*x)/((2*n + 1)*(2*n + 2));\n",
        "    }\n",
        "    return res;\n",
        "\n",
        "}"
      ]
    },
    {
      "cell_type": "code",
      "execution_count": null,
      "metadata": {
        "id": "ffdKyK2wGpLO"
      },
      "outputs": [],
      "source": [
        "! gcc -c c_fast_cos.c -o c_fast_cos.o"
      ]
    },
    {
      "cell_type": "code",
      "execution_count": null,
      "metadata": {
        "id": "GntOVpqyGpLR"
      },
      "outputs": [],
      "source": [
        "! gcc -shared c_fast_cos.o -o c_fast_cos.so"
      ]
    },
    {
      "cell_type": "code",
      "execution_count": null,
      "metadata": {
        "id": "UbpSrJOdGpLT"
      },
      "outputs": [],
      "source": [
        "import ctypes\n",
        "import numpy as np\n",
        "import time\n",
        "import matplotlib.pyplot as plt\n",
        "import statistics\n",
        "import math"
      ]
    },
    {
      "cell_type": "code",
      "execution_count": null,
      "metadata": {
        "id": "I130ZCUWGpLW"
      },
      "outputs": [],
      "source": [
        "def ctypes_fast_cos():\n",
        "    # indicar la ruta de la shared library\n",
        "    libfile = './c_fast_cos.so'\n",
        "\n",
        "    # cargar la shared library\n",
        "    libreria = ctypes.CDLL(libfile)\n",
        "\n",
        "    libreria.c_fast_cos_double.argtypes = [ctypes.c_double, ctypes.c_int]\n",
        "    libreria.c_fast_cos_double.restype = ctypes.c_double\n",
        "    ########################################################\n",
        "    libreria.c_fast_cos_long.argtypes = [ctypes.c_longdouble, ctypes.c_int]\n",
        "    libreria.c_fast_cos_long.restype = ctypes.c_longdouble\n",
        "\n",
        "    # funciones configuradas\n",
        "    return libreria.c_fast_cos_double, libreria.c_fast_cos_long"
      ]
    },
    {
      "cell_type": "code",
      "execution_count": null,
      "metadata": {
        "id": "b1-gkpGPGpLY"
      },
      "outputs": [],
      "source": [
        "c_fast_double, c_fast_long = ctypes_fast_cos()"
      ]
    },
    {
      "cell_type": "code",
      "execution_count": null,
      "metadata": {
        "id": "IRwS1YS8GpLk",
        "outputId": "fd8a4b0e-76a0-41ca-fd9f-135655ea2600"
      },
      "outputs": [
        {
          "data": {
            "text/plain": [
              "-0.4222222222222223"
            ]
          },
          "execution_count": 11,
          "metadata": {},
          "output_type": "execute_result"
        }
      ],
      "source": [
        "# Prueba de funcionalidad de la funcion cos_fast_double en c\n",
        "c_fast_double(x, n_terms)"
      ]
    },
    {
      "cell_type": "markdown",
      "metadata": {
        "id": "_yS2rQFLGpLr"
      },
      "source": [
        "Los tipos de datos de la funcion c_fast_double:\n",
        "\n",
        "- ENTRADAS:\n",
        "- double x = La entrada x corresponde al valor del ángulo, se utiliza double porque puede contener decimales.\n",
        "- int n_terms = La entrada n_terms corresponde a la cantidad de terminos que tendrá la iteración o sumatoria para hallar el valor de cos(x), por ello es un número entero.\n",
        "\n",
        "- SALIDA:\n",
        "- double res = La salida de la función, al ser la aproximación del coseno, es obviamente un valor con decimales."
      ]
    },
    {
      "cell_type": "code",
      "execution_count": null,
      "metadata": {
        "id": "fQB9CPWgGpLt",
        "outputId": "2c008ae5-fdf5-4661-eb23-f1ab5e50051d"
      },
      "outputs": [
        {
          "data": {
            "text/plain": [
              "-0.4222222222222222"
            ]
          },
          "execution_count": 12,
          "metadata": {},
          "output_type": "execute_result"
        }
      ],
      "source": [
        "# Prueba de funcionalidad de la funcion cos_fast_long en c\n",
        "c_fast_long(x,n_terms)"
      ]
    },
    {
      "cell_type": "markdown",
      "metadata": {
        "id": "OqycQqenGpLv"
      },
      "source": [
        "\n",
        "Los tipos de datos de la funcion c_fast_double:\n",
        "\n",
        "- ENTRADAS:\n",
        "- long double x = La entrada x corresponde al valor del ángulo, se utiliza long double porque puede contener decimales, además incrementa la presición en los cálculos.\n",
        "- int n_terms = La entrada n_terms corresponde a la cantidad de terminos que tendrá la iteración o sumatoria para hallar el valor de cos(x), por ello es un número entero.\n",
        "\n",
        "- SALIDA:\n",
        "- long double res = La salida de la función, al ser la aproximación del coseno, es obviamente un valor con decimales, se emplea long double para darle más presición."
      ]
    },
    {
      "cell_type": "code",
      "execution_count": null,
      "metadata": {
        "id": "LMOIvtdgGpLw"
      },
      "outputs": [],
      "source": [
        "def encontrar_n_terms(f, inf, sup, n_angs, pre):\n",
        "\n",
        "    angs = np.linspace(inf, sup, n_angs)\n",
        "    n=1\n",
        "\n",
        "    while(1):\n",
        "        vector_calc = []\n",
        "        for ang in angs:\n",
        "            vector_calc.append(f(ang, n))\n",
        "        error_chevere = np.linalg.norm(np.asarray(vector_calc)-np.cos(angs))/np.linalg.norm(np.cos(angs))\n",
        "\n",
        "        if(error_chevere < pre):\n",
        "            break\n",
        "        n = n+1\n",
        "    return n"
      ]
    },
    {
      "cell_type": "code",
      "execution_count": null,
      "metadata": {
        "id": "zEnL2RivGpLy"
      },
      "outputs": [],
      "source": [
        "inf = -2*math.pi\n",
        "sup = 2*math.pi\n",
        "n_angs = 1000\n",
        "pre = 4e-15"
      ]
    },
    {
      "cell_type": "code",
      "execution_count": null,
      "metadata": {
        "id": "yMAo7pKVGpL0",
        "outputId": "59ecc752-12a9-4a18-aefb-65266b45af6a"
      },
      "outputs": [
        {
          "name": "stdout",
          "output_type": "stream",
          "text": [
            "19\n"
          ]
        }
      ],
      "source": [
        "n_py_slow = encontrar_n_terms(py_slow_cos, inf, sup, n_angs, pre)\n",
        "print(n_py_slow)"
      ]
    },
    {
      "cell_type": "code",
      "execution_count": null,
      "metadata": {
        "id": "RVMWeRHXGpL1",
        "outputId": "0e7da13a-8d70-48e4-fa41-bc13eb9269a4"
      },
      "outputs": [
        {
          "name": "stdout",
          "output_type": "stream",
          "text": [
            "19\n"
          ]
        }
      ],
      "source": [
        "n_py_fast = encontrar_n_terms(py_fast_cos, inf, sup, n_angs, pre)\n",
        "print(n_py_slow)"
      ]
    },
    {
      "cell_type": "code",
      "execution_count": null,
      "metadata": {
        "id": "_Lvy2gAsGpL3",
        "outputId": "5b88015c-cb17-4545-b7b1-5067bb7bf1a2"
      },
      "outputs": [
        {
          "name": "stdout",
          "output_type": "stream",
          "text": [
            "19\n"
          ]
        }
      ],
      "source": [
        "n_c_double = encontrar_n_terms(c_fast_double, inf, sup, n_angs, pre)\n",
        "print(n_py_slow)"
      ]
    },
    {
      "cell_type": "code",
      "execution_count": null,
      "metadata": {
        "id": "7sZt8dIfGpMT",
        "outputId": "b1fcac60-7516-4360-8e03-75789bb196a4"
      },
      "outputs": [
        {
          "name": "stdout",
          "output_type": "stream",
          "text": [
            "19\n"
          ]
        }
      ],
      "source": [
        "n_c_long = encontrar_n_terms(c_fast_long, inf, sup, n_angs, pre)\n",
        "print(n_py_slow)"
      ]
    },
    {
      "cell_type": "code",
      "execution_count": null,
      "metadata": {
        "id": "W-o0slGIGpMW"
      },
      "outputs": [],
      "source": [
        "def encontrar_mediana_de_mediciones_cos(f, ang, n_terms, n_iter):\n",
        "    lista_t = []\n",
        "    for i in range(n_iter):\n",
        "        tic = time.perf_counter()\n",
        "        f(ang,n_terms)\n",
        "        toc = time.perf_counter()\n",
        "        lista_t.append(10e6*(toc - tic))\n",
        "    return statistics.median(lista_t)"
      ]
    },
    {
      "cell_type": "code",
      "execution_count": null,
      "metadata": {
        "id": "l3PcQr1PGpMY"
      },
      "outputs": [],
      "source": [
        "# Prueba 1:\n",
        "\n",
        "ang_1 = inf\n",
        "n_iter = 50\n",
        "\n",
        "p1_slow_median = encontrar_mediana_de_mediciones_cos(py_slow_cos, ang_1, n_py_fast, n_iter)\n",
        "p1_fast_median = encontrar_mediana_de_mediciones_cos(py_fast_cos, ang_1, n_py_slow, n_iter)\n",
        "p1_double_median = encontrar_mediana_de_mediciones_cos(c_fast_double, ang_1, n_c_double, n_iter)\n",
        "p1_long_median = encontrar_mediana_de_mediciones_cos(c_fast_long, ang_1, n_c_long, n_iter)\n",
        "\n"
      ]
    },
    {
      "cell_type": "code",
      "execution_count": null,
      "metadata": {
        "id": "ZmhXcAG9GpMZ"
      },
      "outputs": [],
      "source": [
        "# Prueba 2:\n",
        "\n",
        "ang_2 = sup\n",
        "n_iter = 50\n",
        "\n",
        "p2_slow_median = encontrar_mediana_de_mediciones_cos(py_slow_cos, ang_2, n_py_fast, n_iter)\n",
        "p2_fast_median = encontrar_mediana_de_mediciones_cos(py_fast_cos, ang_2, n_py_slow, n_iter)\n",
        "p2_double_median = encontrar_mediana_de_mediciones_cos(c_fast_double, ang_2, n_c_double, n_iter)\n",
        "p2_long_median = encontrar_mediana_de_mediciones_cos(c_fast_long, ang_2, n_c_long, n_iter)\n",
        "\n"
      ]
    },
    {
      "cell_type": "code",
      "execution_count": null,
      "metadata": {
        "id": "2X5fcbfSGpMl",
        "outputId": "2539a6fe-e09d-4cf5-a743-1390dc2805b5"
      },
      "outputs": [
        {
          "name": "stdout",
          "output_type": "stream",
          "text": [
            "Prueba 1 - Medianas\n",
            "################################\n",
            "py_slow_cos:  173.38499674224295\n",
            "py_fast_cos:  32.364996513933875\n",
            "c_slow_cos:  173.38499674224295\n",
            "c_fast_cos:  32.364996513933875\n",
            "\n",
            "Prueba 2 - Medianas\n",
            "################################\n",
            "py_slow_cos:  171.60999959742185\n",
            "py_fast_cos:  31.020008464111015\n",
            "c_slow_cos:  171.60999959742185\n",
            "c_fast_cos:  31.020008464111015\n"
          ]
        }
      ],
      "source": [
        "print(\"Prueba 1 - Medianas\")\n",
        "print(\"################################\")\n",
        "print(\"py_slow_cos: \", p1_slow_median)\n",
        "print(\"py_fast_cos: \", p1_fast_median)\n",
        "print(\"c_slow_cos: \", p1_slow_median)\n",
        "print(\"c_fast_cos: \", p1_fast_median)\n",
        "print()\n",
        "print(\"Prueba 2 - Medianas\")\n",
        "print(\"################################\")\n",
        "print(\"py_slow_cos: \", p2_slow_median)\n",
        "print(\"py_fast_cos: \", p2_fast_median)\n",
        "print(\"c_slow_cos: \", p2_slow_median)\n",
        "print(\"c_fast_cos: \", p2_fast_median)"
      ]
    },
    {
      "cell_type": "code",
      "execution_count": null,
      "metadata": {
        "id": "B2JxuTy6GpMn"
      },
      "outputs": [],
      "source": [
        "medians_p1 = [p1_slow_median, p1_fast_median, p1_double_median, p1_long_median]\n",
        "medians_p2 = [p2_slow_median, p2_fast_median, p2_double_median, p2_long_median]"
      ]
    },
    {
      "cell_type": "code",
      "execution_count": null,
      "metadata": {
        "id": "wVpu_-ulGpMo",
        "outputId": "eb6e1bb3-9f00-44c3-f002-12e548e6f35f"
      },
      "outputs": [
        {
          "data": {
            "image/png": "[encoded data removed]",
            "text/plain": [
              "<Figure size 640x480 with 1 Axes>"
            ]
          },
          "metadata": {},
          "output_type": "display_data"
        }
      ],
      "source": [
        "fig = plt.figure()\n",
        "ax = fig.add_axes([0,0,1,1])\n",
        "casos = ['Python lento', 'Python rapido', 'C double', 'C long double']\n",
        "ax.bar(casos, medians_p1)\n",
        "plt.title(f'PRUEBA 1: Mediana de tiempos de cos({ang_1}) con {n_iter} términos')\n",
        "plt.show()"
      ]
    },
    {
      "cell_type": "code",
      "execution_count": null,
      "metadata": {
        "id": "EzOVuSJoGpMs",
        "outputId": "b972c0d6-87ea-4f45-fa4b-a4e015257fc9"
      },
      "outputs": [
        {
          "data": {
            "image/png": "[encoded data removed]",
            "text/plain": [
              "<Figure size 640x480 with 1 Axes>"
            ]
          },
          "metadata": {},
          "output_type": "display_data"
        }
      ],
      "source": [
        "fig = plt.figure()\n",
        "ax = fig.add_axes([0,0,1,1])\n",
        "casos = ['Python lento', 'Python rapido', 'C double', 'C long double']\n",
        "ax.bar(casos, medians_p2)\n",
        "plt.title(f'PRUEBA 2: Mediana de tiempos de cos({ang_2}) con {n_iter} términos')\n",
        "plt.show()"
      ]
    },
    {
      "cell_type": "code",
      "execution_count": null,
      "metadata": {
        "id": "CgjM2YpDGpMt"
      },
      "outputs": [],
      "source": [
        "speedups_p1 = [p1_slow_median / p1_fast_median, p1_slow_median / p1_double_median, p1_slow_median / p1_long_median]\n",
        "speedups_p2 = [p2_slow_median / p2_fast_median, p2_slow_median / p2_double_median, p2_slow_median / p2_long_median]"
      ]
    },
    {
      "cell_type": "code",
      "execution_count": null,
      "metadata": {
        "id": "IgML2-pIGpMv",
        "outputId": "43890349-05f9-4fce-906f-2d4444454561"
      },
      "outputs": [
        {
          "data": {
            "image/png": "[encoded data removed]",
            "text/plain": [
              "<Figure size 640x480 with 1 Axes>"
            ]
          },
          "metadata": {},
          "output_type": "display_data"
        }
      ],
      "source": [
        "fig = plt.figure()\n",
        "ax = fig.add_axes([0,0,1,1])\n",
        "casos = ['Python rapido', 'C double', 'C long double']\n",
        "ax.bar(casos, speedups_p1)\n",
        "plt.title(f'PRUEBA 1: Speedup de cos({ang_1}) con {n_iter} términos')\n",
        "plt.show()\n"
      ]
    },
    {
      "cell_type": "code",
      "execution_count": null,
      "metadata": {
        "id": "-FPDAnA0GpMy",
        "outputId": "95753d71-cfdf-4c9a-ff96-590f18a28b9d"
      },
      "outputs": [
        {
          "data": {
            "image/png": "[encoded data removed]",
            "text/plain": [
              "<Figure size 640x480 with 1 Axes>"
            ]
          },
          "metadata": {},
          "output_type": "display_data"
        }
      ],
      "source": [
        "fig = plt.figure()\n",
        "ax = fig.add_axes([0,0,1,1])\n",
        "casos = ['Python rapido', 'C double', 'C long double']\n",
        "ax.bar(casos, speedups_p2)\n",
        "plt.title(f'PRUEBA 2: Speedup de cos({ang_2}) con {n_iter} términos')\n",
        "plt.show()\n"
      ]
    },
    {
      "cell_type": "code",
      "execution_count": null,
      "metadata": {
        "id": "6u9geL-gGpMz"
      },
      "outputs": [],
      "source": [
        "def calc_cosens(f, inf, sup, n_angs, n_terms):\n",
        "\n",
        "    res_vector = []\n",
        "    angs_i = np.linspace(inf, sup, n_angs)\n",
        "\n",
        "    for angles in angs_i:\n",
        "        cosenos = f(angles, n_terms)\n",
        "        res_vector.append(cosenos)\n",
        "    vector = np.asarray(res_vector)\n",
        "    return vector"
      ]
    },
    {
      "cell_type": "code",
      "execution_count": null,
      "metadata": {
        "id": "98yksTzpGpM0"
      },
      "outputs": [],
      "source": [
        "def encontrar_mediana_de_mediciones_calc_cosens(f, inf, sup, n_angs, n_terms, n_iter):\n",
        "    lista_total = []\n",
        "    for i in range(n_iter):\n",
        "        tic = time.perf_counter()\n",
        "        calc_cosens(f,inf,sup,n_angs,n_terms)\n",
        "        toc = time.perf_counter()\n",
        "        lista_total.append(10e6*(toc - tic))\n",
        "    return statistics.median(lista_total)"
      ]
    },
    {
      "cell_type": "code",
      "execution_count": null,
      "metadata": {
        "id": "XvUFJIHbGpM3"
      },
      "outputs": [],
      "source": [
        "inf = -2*math.pi\n",
        "sup = 2*math.pi\n",
        "n_angs = 1000\n",
        "n_iter = 50"
      ]
    },
    {
      "cell_type": "code",
      "execution_count": null,
      "metadata": {
        "id": "Mi0tCQn7GpM4"
      },
      "outputs": [],
      "source": [
        "p_slow_median = encontrar_mediana_de_mediciones_calc_cosens(py_slow_cos, inf, sup, n_angs, n_py_fast, n_iter)\n",
        "p_fast_median = encontrar_mediana_de_mediciones_calc_cosens(py_fast_cos, inf, sup, n_angs, n_py_slow, n_iter)\n",
        "p_double_median = encontrar_mediana_de_mediciones_calc_cosens(c_fast_double, inf, sup, n_angs, n_c_double, n_iter)\n",
        "p_long_median = encontrar_mediana_de_mediciones_calc_cosens(c_fast_long, inf, sup, n_angs, n_c_long, n_iter)"
      ]
    },
    {
      "cell_type": "code",
      "execution_count": null,
      "metadata": {
        "id": "tau9QZAqGpM5"
      },
      "outputs": [],
      "source": [
        "medians = [p_slow_median, p_fast_median, p_double_median, p_long_median]"
      ]
    },
    {
      "cell_type": "code",
      "execution_count": null,
      "metadata": {
        "id": "gXphvCygGpM6",
        "outputId": "9aab990d-6b53-4b71-cec3-ff9eedd5cc13"
      },
      "outputs": [
        {
          "data": {
            "image/png": "[encoded data removed]",
            "text/plain": [
              "<Figure size 640x480 with 1 Axes>"
            ]
          },
          "metadata": {},
          "output_type": "display_data"
        }
      ],
      "source": [
        "fig = plt.figure()\n",
        "ax = fig.add_axes([0,0,1,1])\n",
        "casos = ['Python lento', 'Python rapido', 'C double', 'C long double']\n",
        "ax.bar(casos, medians)\n",
        "plt.title(f': Mediana de tiempos de cos(x) en el rango [inf - sup]')\n",
        "plt.show()"
      ]
    },
    {
      "cell_type": "code",
      "execution_count": null,
      "metadata": {
        "id": "t4XkaargGpM8"
      },
      "outputs": [],
      "source": [
        "speedups_p = [p_slow_median / p_fast_median, p_slow_median / p_double_median, p_slow_median / p_long_median]"
      ]
    },
    {
      "cell_type": "code",
      "execution_count": null,
      "metadata": {
        "id": "KHhL-mFIGpM9",
        "outputId": "f9c827cf-4d68-485f-faed-f2f468764804"
      },
      "outputs": [
        {
          "data": {
            "image/png": "[encoded data removed]",
            "text/plain": [
              "<Figure size 640x480 with 1 Axes>"
            ]
          },
          "metadata": {},
          "output_type": "display_data"
        }
      ],
      "source": [
        "fig = plt.figure()\n",
        "ax = fig.add_axes([0,0,1,1])\n",
        "casos = ['Python rapido', 'C double', 'C long double']\n",
        "ax.bar(casos, speedups_p)\n",
        "plt.title(f'Speedup de cos(x) en el rango [inf-sup]')\n",
        "plt.show()"
      ]
    }
  ],
  "metadata": {
    "colab": {
      "provenance": []
    },
    "kernelspec": {
      "display_name": "Python 3",
      "name": "python3"
    },
    "language_info": {
      "codemirror_mode": {
        "name": "ipython",
        "version": 3
      },
      "file_extension": ".py",
      "mimetype": "text/x-python",
      "name": "python",
      "nbconvert_exporter": "python",
      "pygments_lexer": "ipython3",
      "version": "3.10.6"
    }
  },
  "nbformat": 4,
  "nbformat_minor": 0
}
